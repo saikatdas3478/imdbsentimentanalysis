{
 "cells": [
  {
   "cell_type": "code",
   "execution_count": 1,
   "id": "4eb35983",
   "metadata": {
    "_cell_guid": "b1076dfc-b9ad-4769-8c92-a6c4dae69d19",
    "_uuid": "8f2839f25d086af736a60e9eeb907d3b93b6e0e5",
    "execution": {
     "iopub.execute_input": "2023-11-01T09:38:35.293261Z",
     "iopub.status.busy": "2023-11-01T09:38:35.292913Z",
     "iopub.status.idle": "2023-11-01T09:38:37.768291Z",
     "shell.execute_reply": "2023-11-01T09:38:37.767251Z"
    },
    "papermill": {
     "duration": 2.485164,
     "end_time": "2023-11-01T09:38:37.770287",
     "exception": false,
     "start_time": "2023-11-01T09:38:35.285123",
     "status": "completed"
    },
    "tags": []
   },
   "outputs": [
    {
     "name": "stderr",
     "output_type": "stream",
     "text": [
      "/opt/conda/lib/python3.10/site-packages/scipy/__init__.py:146: UserWarning: A NumPy version >=1.16.5 and <1.23.0 is required for this version of SciPy (detected version 1.23.5\n",
      "  warnings.warn(f\"A NumPy version >={np_minversion} and <{np_maxversion}\"\n"
     ]
    },
    {
     "name": "stdout",
     "output_type": "stream",
     "text": [
      "/kaggle/input/imdb-dataset-of-50k-movie-reviews/IMDB Dataset.csv\n"
     ]
    }
   ],
   "source": [
    "import pandas as pd\n",
    "import matplotlib.pyplot as plt\n",
    "import re\n",
    "import plotly.graph_objects as go\n",
    "from plotly.subplots import make_subplots\n",
    "from nltk.tokenize import word_tokenize\n",
    "from nltk.tag import pos_tag\n",
    "from nltk.corpus import stopwords, wordnet\n",
    "from nltk.stem import WordNetLemmatizer\n",
    "from sklearn.feature_extraction.text import CountVectorizer, TfidfVectorizer\n",
    "from sklearn.preprocessing import LabelEncoder\n",
    "from sklearn.model_selection import train_test_split\n",
    "from sklearn.naive_bayes import GaussianNB\n",
    "from sklearn.ensemble import RandomForestClassifier\n",
    "from sklearn.metrics import confusion_matrix, accuracy_score, classification_report\n",
    "\n",
    "import os\n",
    "for dirname, _, filenames in os.walk('/kaggle/input'):\n",
    "    for filename in filenames:\n",
    "        print(os.path.join(dirname, filename))\n"
   ]
  },
  {
   "cell_type": "code",
   "execution_count": 2,
   "id": "ff59fe81",
   "metadata": {
    "execution": {
     "iopub.execute_input": "2023-11-01T09:38:37.784193Z",
     "iopub.status.busy": "2023-11-01T09:38:37.783816Z",
     "iopub.status.idle": "2023-11-01T09:38:39.516201Z",
     "shell.execute_reply": "2023-11-01T09:38:39.515237Z"
    },
    "papermill": {
     "duration": 1.7422,
     "end_time": "2023-11-01T09:38:39.518738",
     "exception": false,
     "start_time": "2023-11-01T09:38:37.776538",
     "status": "completed"
    },
    "tags": []
   },
   "outputs": [
    {
     "data": {
      "text/plain": [
       "(10000, 2)"
      ]
     },
     "execution_count": 2,
     "metadata": {},
     "output_type": "execute_result"
    }
   ],
   "source": [
    "#Importing dataset and sampling 10000 randomly for smooth processing\n",
    "df = pd.read_csv('/kaggle/input/imdb-dataset-of-50k-movie-reviews/IMDB Dataset.csv')\n",
    "df = df.sample(10000, ignore_index=True)\n",
    "df.shape"
   ]
  },
  {
   "cell_type": "code",
   "execution_count": 3,
   "id": "4fe12c84",
   "metadata": {
    "execution": {
     "iopub.execute_input": "2023-11-01T09:38:39.534388Z",
     "iopub.status.busy": "2023-11-01T09:38:39.534059Z",
     "iopub.status.idle": "2023-11-01T09:38:39.549071Z",
     "shell.execute_reply": "2023-11-01T09:38:39.548248Z"
    },
    "papermill": {
     "duration": 0.025907,
     "end_time": "2023-11-01T09:38:39.551064",
     "exception": false,
     "start_time": "2023-11-01T09:38:39.525157",
     "status": "completed"
    },
    "tags": []
   },
   "outputs": [
    {
     "data": {
      "text/html": [
       "<div>\n",
       "<style scoped>\n",
       "    .dataframe tbody tr th:only-of-type {\n",
       "        vertical-align: middle;\n",
       "    }\n",
       "\n",
       "    .dataframe tbody tr th {\n",
       "        vertical-align: top;\n",
       "    }\n",
       "\n",
       "    .dataframe thead th {\n",
       "        text-align: right;\n",
       "    }\n",
       "</style>\n",
       "<table border=\"1\" class=\"dataframe\">\n",
       "  <thead>\n",
       "    <tr style=\"text-align: right;\">\n",
       "      <th></th>\n",
       "      <th>review</th>\n",
       "      <th>sentiment</th>\n",
       "    </tr>\n",
       "  </thead>\n",
       "  <tbody>\n",
       "    <tr>\n",
       "      <th>0</th>\n",
       "      <td>White man + progress + industrialization = BAD...</td>\n",
       "      <td>positive</td>\n",
       "    </tr>\n",
       "    <tr>\n",
       "      <th>1</th>\n",
       "      <td>Tracy and Matt, Michelle and Sebastian: these ...</td>\n",
       "      <td>positive</td>\n",
       "    </tr>\n",
       "    <tr>\n",
       "      <th>2</th>\n",
       "      <td>How does this movie suck? As a fan of Michael ...</td>\n",
       "      <td>negative</td>\n",
       "    </tr>\n",
       "    <tr>\n",
       "      <th>3</th>\n",
       "      <td>A true story about a true revolution, 25 of Ap...</td>\n",
       "      <td>positive</td>\n",
       "    </tr>\n",
       "    <tr>\n",
       "      <th>4</th>\n",
       "      <td>I admit it's very silly, but I've practically ...</td>\n",
       "      <td>positive</td>\n",
       "    </tr>\n",
       "  </tbody>\n",
       "</table>\n",
       "</div>"
      ],
      "text/plain": [
       "                                              review sentiment\n",
       "0  White man + progress + industrialization = BAD...  positive\n",
       "1  Tracy and Matt, Michelle and Sebastian: these ...  positive\n",
       "2  How does this movie suck? As a fan of Michael ...  negative\n",
       "3  A true story about a true revolution, 25 of Ap...  positive\n",
       "4  I admit it's very silly, but I've practically ...  positive"
      ]
     },
     "execution_count": 3,
     "metadata": {},
     "output_type": "execute_result"
    }
   ],
   "source": [
    "df.head()"
   ]
  },
  {
   "cell_type": "code",
   "execution_count": 4,
   "id": "7709b245",
   "metadata": {
    "execution": {
     "iopub.execute_input": "2023-11-01T09:38:39.564709Z",
     "iopub.status.busy": "2023-11-01T09:38:39.564452Z",
     "iopub.status.idle": "2023-11-01T09:38:39.702041Z",
     "shell.execute_reply": "2023-11-01T09:38:39.701153Z"
    },
    "papermill": {
     "duration": 0.147183,
     "end_time": "2023-11-01T09:38:39.704602",
     "exception": false,
     "start_time": "2023-11-01T09:38:39.557419",
     "status": "completed"
    },
    "tags": []
   },
   "outputs": [
    {
     "name": "stdout",
     "output_type": "stream",
     "text": [
      "sentiment\n",
      "positive    5018\n",
      "negative    4982\n",
      "Name: count, dtype: int64\n"
     ]
    },
    {
     "data": {
      "image/png": "[encoded data removed]",
      "text/plain": [
       "<Figure size 640x480 with 1 Axes>"
      ]
     },
     "metadata": {},
     "output_type": "display_data"
    }
   ],
   "source": [
    "#Checking the class balance of the dataset\n",
    "print(df['sentiment'].value_counts())\n",
    "plt.pie(labels=['Postive Review', 'Negative Review'], \n",
    "        x = df['sentiment'].value_counts().values,\n",
    "        autopct='%.2f%%',\n",
    "        colors = ['red', 'green'])\n",
    "plt.show()"
   ]
  },
  {
   "cell_type": "code",
   "execution_count": 5,
   "id": "97e6575e",
   "metadata": {
    "execution": {
     "iopub.execute_input": "2023-11-01T09:38:39.720461Z",
     "iopub.status.busy": "2023-11-01T09:38:39.719086Z",
     "iopub.status.idle": "2023-11-01T09:38:40.256935Z",
     "shell.execute_reply": "2023-11-01T09:38:40.255920Z"
    },
    "papermill": {
     "duration": 0.548108,
     "end_time": "2023-11-01T09:38:40.259459",
     "exception": false,
     "start_time": "2023-11-01T09:38:39.711351",
     "status": "completed"
    },
    "tags": []
   },
   "outputs": [],
   "source": [
    "#cleaning the text for punctuations or other junk\n",
    "\n",
    "def clear_text(text):\n",
    "    text = text.lower().replace('<br /><br />', '').replace('\\x85', '').replace('\\x96', '')\n",
    "    text = text.replace('n\\'t', ' not').replace('\\'ve', ' have')\n",
    "    text = re.sub('[^a-z\\s]', '', text)\n",
    "    return text\n",
    "\n",
    "\n",
    "df['review (cleared)'] = df['review'].apply(clear_text)"
   ]
  },
  {
   "cell_type": "code",
   "execution_count": 6,
   "id": "0ddd7d35",
   "metadata": {
    "execution": {
     "iopub.execute_input": "2023-11-01T09:38:40.274362Z",
     "iopub.status.busy": "2023-11-01T09:38:40.274057Z",
     "iopub.status.idle": "2023-11-01T09:38:40.760783Z",
     "shell.execute_reply": "2023-11-01T09:38:40.759790Z"
    },
    "papermill": {
     "duration": 0.496297,
     "end_time": "2023-11-01T09:38:40.762820",
     "exception": false,
     "start_time": "2023-11-01T09:38:40.266523",
     "status": "completed"
    },
    "tags": []
   },
   "outputs": [
    {
     "name": "stdout",
     "output_type": "stream",
     "text": [
      "[nltk_data] Downloading package wordnet to /kaggle/working/...\n",
      "Archive:  /kaggle/working/corpora/wordnet.zip\n",
      "   creating: /kaggle/working/corpora/wordnet/\n",
      "  inflating: /kaggle/working/corpora/wordnet/lexnames  \n",
      "  inflating: /kaggle/working/corpora/wordnet/data.verb  \n",
      "  inflating: /kaggle/working/corpora/wordnet/index.adv  \n",
      "  inflating: /kaggle/working/corpora/wordnet/adv.exc  \n",
      "  inflating: /kaggle/working/corpora/wordnet/index.verb  \n",
      "  inflating: /kaggle/working/corpora/wordnet/cntlist.rev  \n",
      "  inflating: /kaggle/working/corpora/wordnet/data.adj  \n",
      "  inflating: /kaggle/working/corpora/wordnet/index.adj  \n",
      "  inflating: /kaggle/working/corpora/wordnet/LICENSE  \n",
      "  inflating: /kaggle/working/corpora/wordnet/citation.bib  \n",
      "  inflating: /kaggle/working/corpora/wordnet/noun.exc  \n",
      "  inflating: /kaggle/working/corpora/wordnet/verb.exc  \n",
      "  inflating: /kaggle/working/corpora/wordnet/README  \n",
      "  inflating: /kaggle/working/corpora/wordnet/index.sense  \n",
      "  inflating: /kaggle/working/corpora/wordnet/data.noun  \n",
      "  inflating: /kaggle/working/corpora/wordnet/data.adv  \n",
      "  inflating: /kaggle/working/corpora/wordnet/index.noun  \n",
      "  inflating: /kaggle/working/corpora/wordnet/adj.exc  \n"
     ]
    }
   ],
   "source": [
    "import nltk\n",
    "import subprocess\n",
    "\n",
    "# Downloading and unzipping wordnet\n",
    "try:\n",
    "    nltk.data.find('wordnet.zip')\n",
    "except:\n",
    "    nltk.download('wordnet', download_dir='/kaggle/working/')\n",
    "    command = \"unzip /kaggle/working/corpora/wordnet.zip -d /kaggle/working/corpora\"\n",
    "    subprocess.run(command.split())\n",
    "    nltk.data.path.append('/kaggle/working/')\n",
    "\n",
    "# importing the NLTK resources as usual\n",
    "from nltk.corpus import wordnet"
   ]
  },
  {
   "cell_type": "code",
   "execution_count": 7,
   "id": "93998f6e",
   "metadata": {
    "execution": {
     "iopub.execute_input": "2023-11-01T09:38:40.778128Z",
     "iopub.status.busy": "2023-11-01T09:38:40.777845Z",
     "iopub.status.idle": "2023-11-01T09:41:06.935039Z",
     "shell.execute_reply": "2023-11-01T09:41:06.934265Z"
    },
    "papermill": {
     "duration": 146.167674,
     "end_time": "2023-11-01T09:41:06.937619",
     "exception": false,
     "start_time": "2023-11-01T09:38:40.769945",
     "status": "completed"
    },
    "tags": []
   },
   "outputs": [],
   "source": [
    "#Tokenizing, pos-tagging, lemmatising and finally adding words together for stem meaning\n",
    "\n",
    "pos_dict = {'A': wordnet.ADJ, 'N': wordnet.NOUN, 'R': wordnet.ADV, 'V': wordnet.VERB}\n",
    "lm = WordNetLemmatizer()\n",
    "stop_words = stopwords.words('english')\n",
    "stop_words.remove('not')\n",
    "\n",
    "\n",
    "def text_preprocessing(text):\n",
    "    updated_pos = []\n",
    "    sentence = ''\n",
    "    pos_text = pos_tag(word_tokenize(text))\n",
    "    for word, tag in pos_text:\n",
    "        if word not in set(stop_words):\n",
    "            updated_pos.append(tuple([word, (pos_dict.get(tag[0].lower()))]))\n",
    "    for word, tag in updated_pos:\n",
    "        if not tag:\n",
    "           sentence += ' ' +  word\n",
    "        else:\n",
    "            sentence += ' ' + lm.lemmatize(word)\n",
    "    return sentence.strip()\n",
    "\n",
    "df['review (lemma)'] = df['review (cleared)'].apply(text_preprocessing)"
   ]
  },
  {
   "cell_type": "code",
   "execution_count": 8,
   "id": "54a410c6",
   "metadata": {
    "execution": {
     "iopub.execute_input": "2023-11-01T09:41:06.953916Z",
     "iopub.status.busy": "2023-11-01T09:41:06.953077Z",
     "iopub.status.idle": "2023-11-01T09:41:06.958884Z",
     "shell.execute_reply": "2023-11-01T09:41:06.957955Z"
    },
    "papermill": {
     "duration": 0.015811,
     "end_time": "2023-11-01T09:41:06.960769",
     "exception": false,
     "start_time": "2023-11-01T09:41:06.944958",
     "status": "completed"
    },
    "tags": []
   },
   "outputs": [
    {
     "name": "stdout",
     "output_type": "stream",
     "text": [
      "Original Review: \n",
      "White man + progress + industrialization = BAD. First nations + nature + animals = GOOD. Simple formula. Actually, in past days the same kind of propaganda was used to defend the status quo; now it is used to attack it. However, that being said, I think the movie does succeed in overcoming hackneyed politicization because it plays to the themes of freedom and original nature in a way that appeals to everyone. You may not be onside with the movie's rubbishy revisionism of how the West was won, er lost. But anyone can feel a sense of longing for the days when horses could run free on the Western plains. (The movie also conveniently sidesteps the fact that there were no horses in America before the evil white man brought them there). Anyway, I liked it. The quality of the animation - especially the opening shot - is incredible.\n",
      "Cleared Review: \n",
      "white man  progress  industrialization  bad first nations  nature  animals  good simple formula actually in past days the same kind of propaganda was used to defend the status quo now it is used to attack it however that being said i think the movie does succeed in overcoming hackneyed politicization because it plays to the themes of freedom and original nature in a way that appeals to everyone you may not be onside with the movies rubbishy revisionism of how the west was won er lost but anyone can feel a sense of longing for the days when horses could run free on the western plains the movie also conveniently sidesteps the fact that there were no horses in america before the evil white man brought them there anyway i liked it the quality of the animation  especially the opening shot  is incredible\n",
      "Lemmatized Review: \n",
      "white man progress industrialization bad first nations nature animals good simple formula actually past days kind propaganda used defend status quo used attack however said think movie succeed overcoming hackneyed politicization plays themes freedom original nature way appeals everyone may not onside movies rubbishy revisionism west er lost anyone feel sense longing days horses could run free western plains movie also conveniently sidesteps fact horses america evil white man brought anyway liked quality animation especially opening shot incredible\n"
     ]
    }
   ],
   "source": [
    "print('Original Review: \\n' + df['review'][0])\n",
    "print('Cleared Review: \\n'+ df['review (cleared)'][0])\n",
    "print('Lemmatized Review: \\n'+ df['review (lemma)'][0])"
   ]
  },
  {
   "cell_type": "code",
   "execution_count": 9,
   "id": "c61caf26",
   "metadata": {
    "execution": {
     "iopub.execute_input": "2023-11-01T09:41:06.975634Z",
     "iopub.status.busy": "2023-11-01T09:41:06.975362Z",
     "iopub.status.idle": "2023-11-01T09:41:19.810529Z",
     "shell.execute_reply": "2023-11-01T09:41:19.809349Z"
    },
    "papermill": {
     "duration": 12.845072,
     "end_time": "2023-11-01T09:41:19.812630",
     "exception": false,
     "start_time": "2023-11-01T09:41:06.967558",
     "status": "completed"
    },
    "tags": []
   },
   "outputs": [
    {
     "name": "stdout",
     "output_type": "stream",
     "text": [
      "Collecting vaderSentiment\r\n",
      "  Downloading vaderSentiment-3.3.2-py2.py3-none-any.whl (125 kB)\r\n",
      "\u001b[2K     \u001b[90m━━━━━━━━━━━━━━━━━━━━━━━━━━━━━━━━━━━━━━━\u001b[0m \u001b[32m126.0/126.0 kB\u001b[0m \u001b[31m4.4 MB/s\u001b[0m eta \u001b[36m0:00:00\u001b[0m\r\n",
      "\u001b[?25hRequirement already satisfied: requests in /opt/conda/lib/python3.10/site-packages (from vaderSentiment) (2.31.0)\r\n",
      "Requirement already satisfied: charset-normalizer<4,>=2 in /opt/conda/lib/python3.10/site-packages (from requests->vaderSentiment) (3.1.0)\r\n",
      "Requirement already satisfied: idna<4,>=2.5 in /opt/conda/lib/python3.10/site-packages (from requests->vaderSentiment) (3.4)\r\n",
      "Requirement already satisfied: urllib3<3,>=1.21.1 in /opt/conda/lib/python3.10/site-packages (from requests->vaderSentiment) (1.26.15)\r\n",
      "Requirement already satisfied: certifi>=2017.4.17 in /opt/conda/lib/python3.10/site-packages (from requests->vaderSentiment) (2023.7.22)\r\n",
      "Installing collected packages: vaderSentiment\r\n",
      "Successfully installed vaderSentiment-3.3.2\r\n",
      "Note: you may need to restart the kernel to use updated packages.\n"
     ]
    }
   ],
   "source": [
    "pip install vaderSentiment"
   ]
  },
  {
   "cell_type": "code",
   "execution_count": 10,
   "id": "ae4456f6",
   "metadata": {
    "execution": {
     "iopub.execute_input": "2023-11-01T09:41:19.829764Z",
     "iopub.status.busy": "2023-11-01T09:41:19.828861Z",
     "iopub.status.idle": "2023-11-01T09:41:48.767832Z",
     "shell.execute_reply": "2023-11-01T09:41:48.767065Z"
    },
    "papermill": {
     "duration": 28.949838,
     "end_time": "2023-11-01T09:41:48.770187",
     "exception": false,
     "start_time": "2023-11-01T09:41:19.820349",
     "status": "completed"
    },
    "tags": []
   },
   "outputs": [
    {
     "name": "stdout",
     "output_type": "stream",
     "text": [
      "{'neg': 0.154, 'neu': 0.593, 'pos': 0.253, 'compound': 0.8885}\n"
     ]
    }
   ],
   "source": [
    "#Doing a sentiment analysis from the text data to check validity of labels\n",
    "from vaderSentiment.vaderSentiment import SentimentIntensityAnalyzer\n",
    "sia = SentimentIntensityAnalyzer()\n",
    "\n",
    "#Cheaking a single sentence poality score\n",
    "print(sia.polarity_scores(df['review (lemma)'][0]))\n",
    "\n",
    "#Creating a function to measure sentiment score of the datatset\n",
    "\n",
    "def sentiment_score(text):\n",
    "    score = sia.polarity_scores(text)\n",
    "    if score.get('compound') > 0.05:\n",
    "        return 'positive'\n",
    "    else:\n",
    "        return 'negative'\n",
    "    \n",
    "df['vader sentiment'] = df['review (lemma)'].apply(sentiment_score)"
   ]
  },
  {
   "cell_type": "code",
   "execution_count": 11,
   "id": "01d3b6c2",
   "metadata": {
    "execution": {
     "iopub.execute_input": "2023-11-01T09:41:48.786870Z",
     "iopub.status.busy": "2023-11-01T09:41:48.786605Z",
     "iopub.status.idle": "2023-11-01T09:41:49.267419Z",
     "shell.execute_reply": "2023-11-01T09:41:49.266448Z"
    },
    "papermill": {
     "duration": 0.491586,
     "end_time": "2023-11-01T09:41:49.269604",
     "exception": false,
     "start_time": "2023-11-01T09:41:48.778018",
     "status": "completed"
    },
    "tags": []
   },
   "outputs": [
    {
     "data": {
      "text/html": [
       "        <script type=\"text/javascript\">\n",
       "        window.PlotlyConfig = {MathJaxConfig: 'local'};\n",
       "        if (window.MathJax && window.MathJax.Hub && window.MathJax.Hub.Config) {window.MathJax.Hub.Config({SVG: {font: \"STIX-Web\"}});}\n",
       "        if (typeof require !== 'undefined') {\n",
       "        require.undef(\"plotly\");\n",
       "        requirejs.config({\n",
       "            paths: {\n",
       "                'plotly': ['https://cdn.plot.ly/plotly-2.24.1.min']\n",
       "            }\n",
       "        });\n",
       "        require(['plotly'], function(Plotly) {\n",
       "            window._Plotly = Plotly;\n",
       "        });\n",
       "        }\n",
       "        </script>\n",
       "        "
      ]
     },
     "metadata": {},
     "output_type": "display_data"
    },
    {
     "data": {
      "text/html": [
       "<div>                            <div id=\"792fba4b-3bf1-43db-afb8-e926ca03a9e6\" class=\"plotly-graph-div\" style=\"height:600px; width:800px;\"></div>            <script type=\"text/javascript\">                require([\"plotly\"], function(Plotly) {                    window.PLOTLYENV=window.PLOTLYENV || {};                                    if (document.getElementById(\"792fba4b-3bf1-43db-afb8-e926ca03a9e6\")) {                    Plotly.newPlot(                        \"792fba4b-3bf1-43db-afb8-e926ca03a9e6\",                        [{\"labels\":[\"positive\",\"negative\"],\"values\":[5018,4982],\"type\":\"pie\",\"domain\":{\"x\":[0.0,0.45],\"y\":[0.0,1.0]}},{\"labels\":[\"positive\",\"negative\"],\"values\":[6713,3287],\"type\":\"pie\",\"domain\":{\"x\":[0.55,1.0],\"y\":[0.0,1.0]}}],                        {\"template\":{\"data\":{\"histogram2dcontour\":[{\"type\":\"histogram2dcontour\",\"colorbar\":{\"outlinewidth\":0,\"ticks\":\"\"},\"colorscale\":[[0.0,\"#0d0887\"],[0.1111111111111111,\"#46039f\"],[0.2222222222222222,\"#7201a8\"],[0.3333333333333333,\"#9c179e\"],[0.4444444444444444,\"#bd3786\"],[0.5555555555555556,\"#d8576b\"],[0.6666666666666666,\"#ed7953\"],[0.7777777777777778,\"#fb9f3a\"],[0.8888888888888888,\"#fdca26\"],[1.0,\"#f0f921\"]]}],\"choropleth\":[{\"type\":\"choropleth\",\"colorbar\":{\"outlinewidth\":0,\"ticks\":\"\"}}],\"histogram2d\":[{\"type\":\"histogram2d\",\"colorbar\":{\"outlinewidth\":0,\"ticks\":\"\"},\"colorscale\":[[0.0,\"#0d0887\"],[0.1111111111111111,\"#46039f\"],[0.2222222222222222,\"#7201a8\"],[0.3333333333333333,\"#9c179e\"],[0.4444444444444444,\"#bd3786\"],[0.5555555555555556,\"#d8576b\"],[0.6666666666666666,\"#ed7953\"],[0.7777777777777778,\"#fb9f3a\"],[0.8888888888888888,\"#fdca26\"],[1.0,\"#f0f921\"]]}],\"heatmap\":[{\"type\":\"heatmap\",\"colorbar\":{\"outlinewidth\":0,\"ticks\":\"\"},\"colorscale\":[[0.0,\"#0d0887\"],[0.1111111111111111,\"#46039f\"],[0.2222222222222222,\"#7201a8\"],[0.3333333333333333,\"#9c179e\"],[0.4444444444444444,\"#bd3786\"],[0.5555555555555556,\"#d8576b\"],[0.6666666666666666,\"#ed7953\"],[0.7777777777777778,\"#fb9f3a\"],[0.8888888888888888,\"#fdca26\"],[1.0,\"#f0f921\"]]}],\"heatmapgl\":[{\"type\":\"heatmapgl\",\"colorbar\":{\"outlinewidth\":0,\"ticks\":\"\"},\"colorscale\":[[0.0,\"#0d0887\"],[0.1111111111111111,\"#46039f\"],[0.2222222222222222,\"#7201a8\"],[0.3333333333333333,\"#9c179e\"],[0.4444444444444444,\"#bd3786\"],[0.5555555555555556,\"#d8576b\"],[0.6666666666666666,\"#ed7953\"],[0.7777777777777778,\"#fb9f3a\"],[0.8888888888888888,\"#fdca26\"],[1.0,\"#f0f921\"]]}],\"contourcarpet\":[{\"type\":\"contourcarpet\",\"colorbar\":{\"outlinewidth\":0,\"ticks\":\"\"}}],\"contour\":[{\"type\":\"contour\",\"colorbar\":{\"outlinewidth\":0,\"ticks\":\"\"},\"colorscale\":[[0.0,\"#0d0887\"],[0.1111111111111111,\"#46039f\"],[0.2222222222222222,\"#7201a8\"],[0.3333333333333333,\"#9c179e\"],[0.4444444444444444,\"#bd3786\"],[0.5555555555555556,\"#d8576b\"],[0.6666666666666666,\"#ed7953\"],[0.7777777777777778,\"#fb9f3a\"],[0.8888888888888888,\"#fdca26\"],[1.0,\"#f0f921\"]]}],\"surface\":[{\"type\":\"surface\",\"colorbar\":{\"outlinewidth\":0,\"ticks\":\"\"},\"colorscale\":[[0.0,\"#0d0887\"],[0.1111111111111111,\"#46039f\"],[0.2222222222222222,\"#7201a8\"],[0.3333333333333333,\"#9c179e\"],[0.4444444444444444,\"#bd3786\"],[0.5555555555555556,\"#d8576b\"],[0.6666666666666666,\"#ed7953\"],[0.7777777777777778,\"#fb9f3a\"],[0.8888888888888888,\"#fdca26\"],[1.0,\"#f0f921\"]]}],\"mesh3d\":[{\"type\":\"mesh3d\",\"colorbar\":{\"outlinewidth\":0,\"ticks\":\"\"}}],\"scatter\":[{\"fillpattern\":{\"fillmode\":\"overlay\",\"size\":10,\"solidity\":0.2},\"type\":\"scatter\"}],\"parcoords\":[{\"type\":\"parcoords\",\"line\":{\"colorbar\":{\"outlinewidth\":0,\"ticks\":\"\"}}}],\"scatterpolargl\":[{\"type\":\"scatterpolargl\",\"marker\":{\"colorbar\":{\"outlinewidth\":0,\"ticks\":\"\"}}}],\"bar\":[{\"error_x\":{\"color\":\"#2a3f5f\"},\"error_y\":{\"color\":\"#2a3f5f\"},\"marker\":{\"line\":{\"color\":\"#E5ECF6\",\"width\":0.5},\"pattern\":{\"fillmode\":\"overlay\",\"size\":10,\"solidity\":0.2}},\"type\":\"bar\"}],\"scattergeo\":[{\"type\":\"scattergeo\",\"marker\":{\"colorbar\":{\"outlinewidth\":0,\"ticks\":\"\"}}}],\"scatterpolar\":[{\"type\":\"scatterpolar\",\"marker\":{\"colorbar\":{\"outlinewidth\":0,\"ticks\":\"\"}}}],\"histogram\":[{\"marker\":{\"pattern\":{\"fillmode\":\"overlay\",\"size\":10,\"solidity\":0.2}},\"type\":\"histogram\"}],\"scattergl\":[{\"type\":\"scattergl\",\"marker\":{\"colorbar\":{\"outlinewidth\":0,\"ticks\":\"\"}}}],\"scatter3d\":[{\"type\":\"scatter3d\",\"line\":{\"colorbar\":{\"outlinewidth\":0,\"ticks\":\"\"}},\"marker\":{\"colorbar\":{\"outlinewidth\":0,\"ticks\":\"\"}}}],\"scattermapbox\":[{\"type\":\"scattermapbox\",\"marker\":{\"colorbar\":{\"outlinewidth\":0,\"ticks\":\"\"}}}],\"scatterternary\":[{\"type\":\"scatterternary\",\"marker\":{\"colorbar\":{\"outlinewidth\":0,\"ticks\":\"\"}}}],\"scattercarpet\":[{\"type\":\"scattercarpet\",\"marker\":{\"colorbar\":{\"outlinewidth\":0,\"ticks\":\"\"}}}],\"carpet\":[{\"aaxis\":{\"endlinecolor\":\"#2a3f5f\",\"gridcolor\":\"white\",\"linecolor\":\"white\",\"minorgridcolor\":\"white\",\"startlinecolor\":\"#2a3f5f\"},\"baxis\":{\"endlinecolor\":\"#2a3f5f\",\"gridcolor\":\"white\",\"linecolor\":\"white\",\"minorgridcolor\":\"white\",\"startlinecolor\":\"#2a3f5f\"},\"type\":\"carpet\"}],\"table\":[{\"cells\":{\"fill\":{\"color\":\"#EBF0F8\"},\"line\":{\"color\":\"white\"}},\"header\":{\"fill\":{\"color\":\"#C8D4E3\"},\"line\":{\"color\":\"white\"}},\"type\":\"table\"}],\"barpolar\":[{\"marker\":{\"line\":{\"color\":\"#E5ECF6\",\"width\":0.5},\"pattern\":{\"fillmode\":\"overlay\",\"size\":10,\"solidity\":0.2}},\"type\":\"barpolar\"}],\"pie\":[{\"automargin\":true,\"type\":\"pie\"}]},\"layout\":{\"autotypenumbers\":\"strict\",\"colorway\":[\"#636efa\",\"#EF553B\",\"#00cc96\",\"#ab63fa\",\"#FFA15A\",\"#19d3f3\",\"#FF6692\",\"#B6E880\",\"#FF97FF\",\"#FECB52\"],\"font\":{\"color\":\"#2a3f5f\"},\"hovermode\":\"closest\",\"hoverlabel\":{\"align\":\"left\"},\"paper_bgcolor\":\"white\",\"plot_bgcolor\":\"#E5ECF6\",\"polar\":{\"bgcolor\":\"#E5ECF6\",\"angularaxis\":{\"gridcolor\":\"white\",\"linecolor\":\"white\",\"ticks\":\"\"},\"radialaxis\":{\"gridcolor\":\"white\",\"linecolor\":\"white\",\"ticks\":\"\"}},\"ternary\":{\"bgcolor\":\"#E5ECF6\",\"aaxis\":{\"gridcolor\":\"white\",\"linecolor\":\"white\",\"ticks\":\"\"},\"baxis\":{\"gridcolor\":\"white\",\"linecolor\":\"white\",\"ticks\":\"\"},\"caxis\":{\"gridcolor\":\"white\",\"linecolor\":\"white\",\"ticks\":\"\"}},\"coloraxis\":{\"colorbar\":{\"outlinewidth\":0,\"ticks\":\"\"}},\"colorscale\":{\"sequential\":[[0.0,\"#0d0887\"],[0.1111111111111111,\"#46039f\"],[0.2222222222222222,\"#7201a8\"],[0.3333333333333333,\"#9c179e\"],[0.4444444444444444,\"#bd3786\"],[0.5555555555555556,\"#d8576b\"],[0.6666666666666666,\"#ed7953\"],[0.7777777777777778,\"#fb9f3a\"],[0.8888888888888888,\"#fdca26\"],[1.0,\"#f0f921\"]],\"sequentialminus\":[[0.0,\"#0d0887\"],[0.1111111111111111,\"#46039f\"],[0.2222222222222222,\"#7201a8\"],[0.3333333333333333,\"#9c179e\"],[0.4444444444444444,\"#bd3786\"],[0.5555555555555556,\"#d8576b\"],[0.6666666666666666,\"#ed7953\"],[0.7777777777777778,\"#fb9f3a\"],[0.8888888888888888,\"#fdca26\"],[1.0,\"#f0f921\"]],\"diverging\":[[0,\"#8e0152\"],[0.1,\"#c51b7d\"],[0.2,\"#de77ae\"],[0.3,\"#f1b6da\"],[0.4,\"#fde0ef\"],[0.5,\"#f7f7f7\"],[0.6,\"#e6f5d0\"],[0.7,\"#b8e186\"],[0.8,\"#7fbc41\"],[0.9,\"#4d9221\"],[1,\"#276419\"]]},\"xaxis\":{\"gridcolor\":\"white\",\"linecolor\":\"white\",\"ticks\":\"\",\"title\":{\"standoff\":15},\"zerolinecolor\":\"white\",\"automargin\":true,\"zerolinewidth\":2},\"yaxis\":{\"gridcolor\":\"white\",\"linecolor\":\"white\",\"ticks\":\"\",\"title\":{\"standoff\":15},\"zerolinecolor\":\"white\",\"automargin\":true,\"zerolinewidth\":2},\"scene\":{\"xaxis\":{\"backgroundcolor\":\"#E5ECF6\",\"gridcolor\":\"white\",\"linecolor\":\"white\",\"showbackground\":true,\"ticks\":\"\",\"zerolinecolor\":\"white\",\"gridwidth\":2},\"yaxis\":{\"backgroundcolor\":\"#E5ECF6\",\"gridcolor\":\"white\",\"linecolor\":\"white\",\"showbackground\":true,\"ticks\":\"\",\"zerolinecolor\":\"white\",\"gridwidth\":2},\"zaxis\":{\"backgroundcolor\":\"#E5ECF6\",\"gridcolor\":\"white\",\"linecolor\":\"white\",\"showbackground\":true,\"ticks\":\"\",\"zerolinecolor\":\"white\",\"gridwidth\":2}},\"shapedefaults\":{\"line\":{\"color\":\"#2a3f5f\"}},\"annotationdefaults\":{\"arrowcolor\":\"#2a3f5f\",\"arrowhead\":0,\"arrowwidth\":1},\"geo\":{\"bgcolor\":\"white\",\"landcolor\":\"#E5ECF6\",\"subunitcolor\":\"white\",\"showland\":true,\"showlakes\":true,\"lakecolor\":\"white\"},\"title\":{\"x\":0.05},\"mapbox\":{\"style\":\"light\"}}},\"annotations\":[{\"font\":{\"size\":16},\"showarrow\":false,\"text\":\"True Label sentiment\",\"x\":0.225,\"xanchor\":\"center\",\"xref\":\"paper\",\"y\":1.0,\"yanchor\":\"bottom\",\"yref\":\"paper\"},{\"font\":{\"size\":16},\"showarrow\":false,\"text\":\"Vader Sentiment\",\"x\":0.775,\"xanchor\":\"center\",\"xref\":\"paper\",\"y\":1.0,\"yanchor\":\"bottom\",\"yref\":\"paper\"}],\"legend\":{\"title\":{\"text\":\"Review\"}},\"width\":800,\"height\":600},                        {\"responsive\": true}                    ).then(function(){\n",
       "                            \n",
       "var gd = document.getElementById('792fba4b-3bf1-43db-afb8-e926ca03a9e6');\n",
       "var x = new MutationObserver(function (mutations, observer) {{\n",
       "        var display = window.getComputedStyle(gd).display;\n",
       "        if (!display || display === 'none') {{\n",
       "            console.log([gd, 'removed!']);\n",
       "            Plotly.purge(gd);\n",
       "            observer.disconnect();\n",
       "        }}\n",
       "}});\n",
       "\n",
       "// Listen for the removal of the full notebook cells\n",
       "var notebookContainer = gd.closest('#notebook-container');\n",
       "if (notebookContainer) {{\n",
       "    x.observe(notebookContainer, {childList: true});\n",
       "}}\n",
       "\n",
       "// Listen for the clearing of the current output cell\n",
       "var outputEl = gd.closest('.output');\n",
       "if (outputEl) {{\n",
       "    x.observe(outputEl, {childList: true});\n",
       "}}\n",
       "\n",
       "                        })                };                });            </script>        </div>"
      ]
     },
     "metadata": {},
     "output_type": "display_data"
    }
   ],
   "source": [
    "sentiment_df = df[['sentiment', 'vader sentiment']]\n",
    "\n",
    "#Plotting the sentiment in pie chart\n",
    "\n",
    "fig = make_subplots(rows = 1, \n",
    "                    cols = 2, \n",
    "                    subplot_titles = ['True Label sentiment', 'Vader Sentiment'],\n",
    "                   specs = [[{'type': 'domain'}, {'type': 'domain'}]])\n",
    "\n",
    "fig.add_trace(go.Pie(labels = df['sentiment'].value_counts().index, \n",
    "                     values = df['sentiment'].value_counts().values), \n",
    "              row = 1, \n",
    "              col = 1)\n",
    "fig.add_trace(go.Pie(labels = df['vader sentiment'].value_counts().index,\n",
    "                    values = df['vader sentiment'].value_counts().values),\n",
    "             row = 1,\n",
    "             col = 2)\n",
    "\n",
    "fig.update_layout(legend = dict(title= 'Review'), width=800, height=600)\n",
    "\n",
    "fig.show()"
   ]
  },
  {
   "cell_type": "code",
   "execution_count": null,
   "id": "6b17da1e",
   "metadata": {
    "papermill": {
     "duration": 0.010215,
     "end_time": "2023-11-01T09:41:49.288107",
     "exception": false,
     "start_time": "2023-11-01T09:41:49.277892",
     "status": "completed"
    },
    "tags": []
   },
   "outputs": [],
   "source": []
  },
  {
   "cell_type": "code",
   "execution_count": 12,
   "id": "f550d5c5",
   "metadata": {
    "execution": {
     "iopub.execute_input": "2023-11-01T09:41:49.306650Z",
     "iopub.status.busy": "2023-11-01T09:41:49.305919Z",
     "iopub.status.idle": "2023-11-01T09:41:49.323581Z",
     "shell.execute_reply": "2023-11-01T09:41:49.322698Z"
    },
    "papermill": {
     "duration": 0.028541,
     "end_time": "2023-11-01T09:41:49.325545",
     "exception": false,
     "start_time": "2023-11-01T09:41:49.297004",
     "status": "completed"
    },
    "tags": []
   },
   "outputs": [],
   "source": [
    "#Creating indepedent and depedent variable\n",
    "X = df['review (cleared)']\n",
    "y = df['sentiment'].values\n",
    "\n",
    "#Label encoding the depedent variable\n",
    "le = LabelEncoder()\n",
    "y = le.fit_transform(y)\n",
    "\n",
    "#Creating train and test dataset\n",
    "X_train, X_test, y_train, y_test = train_test_split(X, y, test_size= 0.2, random_state=0)"
   ]
  },
  {
   "cell_type": "code",
   "execution_count": 13,
   "id": "f3580d2d",
   "metadata": {
    "execution": {
     "iopub.execute_input": "2023-11-01T09:41:49.342458Z",
     "iopub.status.busy": "2023-11-01T09:41:49.342157Z",
     "iopub.status.idle": "2023-11-01T09:42:04.891512Z",
     "shell.execute_reply": "2023-11-01T09:42:04.890282Z"
    },
    "papermill": {
     "duration": 15.560368,
     "end_time": "2023-11-01T09:42:04.893766",
     "exception": false,
     "start_time": "2023-11-01T09:41:49.333398",
     "status": "completed"
    },
    "tags": []
   },
   "outputs": [
    {
     "name": "stdout",
     "output_type": "stream",
     "text": [
      "Accuracy Score: 63.45%\n",
      "Confusion Matrix: \n",
      "[[682 430]\n",
      " [301 587]]\n",
      "Classification Report: \n",
      "              precision    recall  f1-score   support\n",
      "\n",
      "           0       0.69      0.61      0.65      1112\n",
      "           1       0.58      0.66      0.62       888\n",
      "\n",
      "    accuracy                           0.63      2000\n",
      "   macro avg       0.64      0.64      0.63      2000\n",
      "weighted avg       0.64      0.63      0.64      2000\n",
      "\n"
     ]
    }
   ],
   "source": [
    "#Using countvectoriser for creating bag of words\n",
    "cv = CountVectorizer()\n",
    "X_train_c = cv.fit_transform(X_train).toarray()\n",
    "X_test_c = cv.transform(X_test).toarray()\n",
    "\n",
    "#Using naive bayes algorithm to predict the sentiment\n",
    "gnbc = GaussianNB()\n",
    "gnbc.fit(X_train_c, y_train)\n",
    "\n",
    "#Evaluting the model based on the true sentiment\n",
    "y_pred = gnbc.predict(X_test_c)\n",
    "ac = accuracy_score(y_pred, y_test)\n",
    "cf = confusion_matrix(y_pred, y_test)\n",
    "report_1 = classification_report(y_pred, y_test)\n",
    "print(f'Accuracy Score: {round(ac*100, 2)}%')\n",
    "print(f'Confusion Matrix: \\n{cf}')\n",
    "print(f'Classification Report: \\n{report_1}')"
   ]
  },
  {
   "cell_type": "code",
   "execution_count": 14,
   "id": "efb6f28f",
   "metadata": {
    "execution": {
     "iopub.execute_input": "2023-11-01T09:42:04.911060Z",
     "iopub.status.busy": "2023-11-01T09:42:04.910766Z",
     "iopub.status.idle": "2023-11-01T09:43:16.179349Z",
     "shell.execute_reply": "2023-11-01T09:43:16.178442Z"
    },
    "papermill": {
     "duration": 71.287578,
     "end_time": "2023-11-01T09:43:16.189532",
     "exception": false,
     "start_time": "2023-11-01T09:42:04.901954",
     "status": "completed"
    },
    "tags": []
   },
   "outputs": [
    {
     "name": "stdout",
     "output_type": "stream",
     "text": [
      "Accuracy Score: 82.95%\n",
      "Confusion Matrix: \n",
      "[[831 189]\n",
      " [152 828]]\n",
      "Classification Report: \n",
      "              precision    recall  f1-score   support\n",
      "\n",
      "           0       0.85      0.81      0.83      1020\n",
      "           1       0.81      0.84      0.83       980\n",
      "\n",
      "    accuracy                           0.83      2000\n",
      "   macro avg       0.83      0.83      0.83      2000\n",
      "weighted avg       0.83      0.83      0.83      2000\n",
      "\n"
     ]
    }
   ],
   "source": [
    "#Using random forest algorithm to predict the sentiment\n",
    "rfcc = RandomForestClassifier()\n",
    "rfcc.fit(X_train_c, y_train)\n",
    "\n",
    "#Evaluting the model based on the true sentiment\n",
    "y_pred = rfcc.predict(X_test_c)\n",
    "ac = accuracy_score(y_pred, y_test)\n",
    "cf = confusion_matrix(y_pred, y_test)\n",
    "report_2 = classification_report(y_pred, y_test)\n",
    "print(f'Accuracy Score: {round(ac*100, 2)}%')\n",
    "print(f'Confusion Matrix: \\n{cf}')\n",
    "print(f'Classification Report: \\n{report_2}')"
   ]
  },
  {
   "cell_type": "code",
   "execution_count": 15,
   "id": "90d90b7f",
   "metadata": {
    "execution": {
     "iopub.execute_input": "2023-11-01T09:43:16.206572Z",
     "iopub.status.busy": "2023-11-01T09:43:16.206309Z",
     "iopub.status.idle": "2023-11-01T09:43:32.010862Z",
     "shell.execute_reply": "2023-11-01T09:43:32.009972Z"
    },
    "papermill": {
     "duration": 15.81557,
     "end_time": "2023-11-01T09:43:32.013089",
     "exception": false,
     "start_time": "2023-11-01T09:43:16.197519",
     "status": "completed"
    },
    "tags": []
   },
   "outputs": [
    {
     "name": "stdout",
     "output_type": "stream",
     "text": [
      "Accuracy Score: 62.6%\n",
      "Confusion Matrix: \n",
      "[[612 377]\n",
      " [371 640]]\n",
      "Classification Report: \n",
      "              precision    recall  f1-score   support\n",
      "\n",
      "           0       0.62      0.62      0.62       989\n",
      "           1       0.63      0.63      0.63      1011\n",
      "\n",
      "    accuracy                           0.63      2000\n",
      "   macro avg       0.63      0.63      0.63      2000\n",
      "weighted avg       0.63      0.63      0.63      2000\n",
      "\n"
     ]
    }
   ],
   "source": [
    "#Using Tfidf for creating bag of words\n",
    "cv = TfidfVectorizer()\n",
    "X_train_t = cv.fit_transform(X_train).toarray()\n",
    "X_test_t = cv.transform(X_test).toarray()\n",
    "\n",
    "#Using naive bayes algorithm to predict the sentiment\n",
    "gnbt = GaussianNB()\n",
    "gnbt.fit(X_train_t, y_train)\n",
    "\n",
    "#Evaluting the model based on the true sentiment\n",
    "y_pred = gnbt.predict(X_test_t)\n",
    "ac = accuracy_score(y_pred, y_test)\n",
    "cf = confusion_matrix(y_pred, y_test)\n",
    "report_1 = classification_report(y_pred, y_test)\n",
    "print(f'Accuracy Score: {round(ac*100, 2)}%')\n",
    "print(f'Confusion Matrix: \\n{cf}')\n",
    "print(f'Classification Report: \\n{report_1}')"
   ]
  },
  {
   "cell_type": "code",
   "execution_count": 16,
   "id": "5f983f9d",
   "metadata": {
    "execution": {
     "iopub.execute_input": "2023-11-01T09:43:32.030850Z",
     "iopub.status.busy": "2023-11-01T09:43:32.030558Z",
     "iopub.status.idle": "2023-11-01T09:44:37.960233Z",
     "shell.execute_reply": "2023-11-01T09:44:37.959262Z"
    },
    "papermill": {
     "duration": 65.948373,
     "end_time": "2023-11-01T09:44:37.969987",
     "exception": false,
     "start_time": "2023-11-01T09:43:32.021614",
     "status": "completed"
    },
    "tags": []
   },
   "outputs": [
    {
     "name": "stdout",
     "output_type": "stream",
     "text": [
      "Accuracy Score: 81.85%\n",
      "Confusion Matrix: \n",
      "[[821 201]\n",
      " [162 816]]\n",
      "Classification Report: \n",
      "              precision    recall  f1-score   support\n",
      "\n",
      "           0       0.84      0.80      0.82      1022\n",
      "           1       0.80      0.83      0.82       978\n",
      "\n",
      "    accuracy                           0.82      2000\n",
      "   macro avg       0.82      0.82      0.82      2000\n",
      "weighted avg       0.82      0.82      0.82      2000\n",
      "\n"
     ]
    }
   ],
   "source": [
    "#Using random forest algorithm to predict the sentiment\n",
    "rfct = RandomForestClassifier()\n",
    "rfct.fit(X_train_t, y_train)\n",
    "\n",
    "#Evaluting the model based on the true sentiment\n",
    "y_pred = rfct.predict(X_test_t)\n",
    "ac = accuracy_score(y_pred, y_test)\n",
    "cf = confusion_matrix(y_pred, y_test)\n",
    "report_2 = classification_report(y_pred, y_test)\n",
    "print(f'Accuracy Score: {round(ac*100, 2)}%')\n",
    "print(f'Confusion Matrix: \\n{cf}')\n",
    "print(f'Classification Report: \\n{report_2}')"
   ]
  },
  {
   "cell_type": "code",
   "execution_count": 17,
   "id": "2d00b7c0",
   "metadata": {
    "execution": {
     "iopub.execute_input": "2023-11-01T09:44:37.987958Z",
     "iopub.status.busy": "2023-11-01T09:44:37.987269Z",
     "iopub.status.idle": "2023-11-01T09:44:37.992370Z",
     "shell.execute_reply": "2023-11-01T09:44:37.991506Z"
    },
    "papermill": {
     "duration": 0.016061,
     "end_time": "2023-11-01T09:44:37.994342",
     "exception": false,
     "start_time": "2023-11-01T09:44:37.978281",
     "status": "completed"
    },
    "tags": []
   },
   "outputs": [],
   "source": [
    "# Creating a general function for output generation\n",
    "def output_sentiment(text):\n",
    "    transformed_input = cv.transform([text]).toarray()\n",
    "    if rfct.predict(transformed_input)[0] == 0:\n",
    "        return 'Negative'\n",
    "    else:\n",
    "        return 'Positive' "
   ]
  },
  {
   "cell_type": "code",
   "execution_count": 18,
   "id": "65e81e54",
   "metadata": {
    "execution": {
     "iopub.execute_input": "2023-11-01T09:44:38.011426Z",
     "iopub.status.busy": "2023-11-01T09:44:38.011133Z",
     "iopub.status.idle": "2023-11-01T09:44:38.023961Z",
     "shell.execute_reply": "2023-11-01T09:44:38.023011Z"
    },
    "papermill": {
     "duration": 0.023461,
     "end_time": "2023-11-01T09:44:38.025823",
     "exception": false,
     "start_time": "2023-11-01T09:44:38.002362",
     "status": "completed"
    },
    "tags": []
   },
   "outputs": [
    {
     "name": "stdout",
     "output_type": "stream",
     "text": [
      "Negative\n"
     ]
    }
   ],
   "source": [
    "neg_text = '''My biggest disappointment with this phone is the UI. MIUI is a terrible OS if you're into customization and other things. \n",
    "Firstly, don't expect a lot of features that were offered. Xiaomi locks many of the MIUI features for China only, \n",
    "but also locks them out of lower-end devices like this. Secondly, they have disabled full-screen gestures if you're using a custom launcher. \n",
    "The default MIUI launcher is terrible as well and just doesn't look good. For an individual who is accustomed to the stock Android experience, \n",
    "the MIUI 14 has been a dismal experience after almost 20 days of using the phone.'''\n",
    "\n",
    "print(output_sentiment(neg_text))"
   ]
  },
  {
   "cell_type": "code",
   "execution_count": 19,
   "id": "9e51bdc8",
   "metadata": {
    "execution": {
     "iopub.execute_input": "2023-11-01T09:44:38.043424Z",
     "iopub.status.busy": "2023-11-01T09:44:38.043133Z",
     "iopub.status.idle": "2023-11-01T09:44:38.054818Z",
     "shell.execute_reply": "2023-11-01T09:44:38.054020Z"
    },
    "papermill": {
     "duration": 0.022274,
     "end_time": "2023-11-01T09:44:38.056546",
     "exception": false,
     "start_time": "2023-11-01T09:44:38.034272",
     "status": "completed"
    },
    "tags": []
   },
   "outputs": [
    {
     "name": "stdout",
     "output_type": "stream",
     "text": [
      "Positive\n"
     ]
    }
   ],
   "source": [
    "pos_text = '''I recently purchased a new phone, and I must say I'm quite impressed with its features. \n",
    "The camera is fantastic, delivering crisp and vibrant photos, making it a perfect companion for capturing memories. \n",
    "The large screen provides an immersive viewing experience, and the 22-watt supercharging ensures that my phone is juiced up in no time, \n",
    "keeping me connected throughout the day.'''\n",
    "\n",
    "print(output_sentiment(pos_text))"
   ]
  },
  {
   "cell_type": "code",
   "execution_count": null,
   "id": "e86a4389",
   "metadata": {
    "papermill": {
     "duration": 0.008008,
     "end_time": "2023-11-01T09:44:38.072661",
     "exception": false,
     "start_time": "2023-11-01T09:44:38.064653",
     "status": "completed"
    },
    "tags": []
   },
   "outputs": [],
   "source": []
  }
 ],
 "metadata": {
  "kernelspec": {
   "display_name": "Python 3",
   "language": "python",
   "name": "python3"
  },
  "language_info": {
   "codemirror_mode": {
    "name": "ipython",
    "version": 3
   },
   "file_extension": ".py",
   "mimetype": "text/x-python",
   "name": "python",
   "nbconvert_exporter": "python",
   "pygments_lexer": "ipython3",
   "version": "3.10.12"
  },
  "papermill": {
   "default_parameters": {},
   "duration": 367.307003,
   "end_time": "2023-11-01T09:44:39.302557",
   "environment_variables": {},
   "exception": null,
   "input_path": "__notebook__.ipynb",
   "output_path": "__notebook__.ipynb",
   "parameters": {},
   "start_time": "2023-11-01T09:38:31.995554",
   "version": "2.4.0"
  }
 },
 "nbformat": 4,
 "nbformat_minor": 5
}
